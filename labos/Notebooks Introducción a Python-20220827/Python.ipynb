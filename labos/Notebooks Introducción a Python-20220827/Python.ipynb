{
  "cells": [
    {
      "cell_type": "markdown",
      "metadata": {
        "id": "99_4eyfyxskq"
      },
      "source": [
        "# Introducción a Python\n",
        "\n"
      ]
    },
    {
      "cell_type": "markdown",
      "metadata": {
        "id": "EdWvquL_uplm"
      },
      "source": [
        "0. Investigar el uso de las funciones set_trace y los comandos para debuggear en ipdb"
      ]
    },
    {
      "cell_type": "code",
      "execution_count": null,
      "metadata": {
        "id": "_F2eD3-Hxskx",
        "colab": {
          "base_uri": "https://localhost:8080/",
          "height": 1000
        },
        "outputId": "0f6b6385-dc70-494e-b122-48b265f7a528"
      },
      "outputs": [
        {
          "output_type": "stream",
          "name": "stderr",
          "text": [
            "\n",
            "PYDEV DEBUGGER WARNING:\n",
            "sys.settrace() should not be used when the debugger is being used.\n",
            "This may cause the debugger to stop working correctly.\n",
            "If this is needed, please check: \n",
            "http://pydev.blogspot.com/2007/06/why-cant-pydev-debugger-work-with.html\n",
            "to see how to restore the debug tracing back correctly.\n",
            "Call Location:\n",
            "  File \"/usr/lib/python3.7/bdb.py\", line 332, in set_trace\n",
            "    sys.settrace(self.trace_dispatch)\n",
            "\n"
          ]
        },
        {
          "name": "stdout",
          "output_type": "stream",
          "text": [
            "> \u001b[0;32m<ipython-input-1-345c8b76c8a8>\u001b[0m(6)\u001b[0;36m<module>\u001b[0;34m()\u001b[0m\n",
            "\u001b[0;32m      4 \u001b[0;31m\u001b[0;32mif\u001b[0m \u001b[0ma\u001b[0m \u001b[0;34m>\u001b[0m \u001b[0;36m0\u001b[0m\u001b[0;34m:\u001b[0m\u001b[0;34m\u001b[0m\u001b[0;34m\u001b[0m\u001b[0m\n",
            "\u001b[0m\u001b[0;32m      5 \u001b[0;31m    \u001b[0mset_trace\u001b[0m\u001b[0;34m(\u001b[0m\u001b[0;34m)\u001b[0m\u001b[0;34m\u001b[0m\u001b[0;34m\u001b[0m\u001b[0m\n",
            "\u001b[0m\u001b[0;32m----> 6 \u001b[0;31m    \u001b[0ma\u001b[0m \u001b[0;34m=\u001b[0m \u001b[0ma\u001b[0m \u001b[0;34m+\u001b[0m \u001b[0;36m2\u001b[0m\u001b[0;34m\u001b[0m\u001b[0;34m\u001b[0m\u001b[0m\n",
            "\u001b[0m\u001b[0;32m      7 \u001b[0;31m    \u001b[0mset_trace\u001b[0m\u001b[0;34m(\u001b[0m\u001b[0;34m)\u001b[0m\u001b[0;34m\u001b[0m\u001b[0;34m\u001b[0m\u001b[0m\n",
            "\u001b[0m\u001b[0;32m      8 \u001b[0;31m\u001b[0;32melse\u001b[0m\u001b[0;34m:\u001b[0m\u001b[0;34m\u001b[0m\u001b[0;34m\u001b[0m\u001b[0m\n",
            "\u001b[0m\n",
            "ipdb> s\n",
            "> \u001b[0;32m<ipython-input-1-345c8b76c8a8>\u001b[0m(7)\u001b[0;36m<module>\u001b[0;34m()\u001b[0m\n",
            "\u001b[0;32m      5 \u001b[0;31m    \u001b[0mset_trace\u001b[0m\u001b[0;34m(\u001b[0m\u001b[0;34m)\u001b[0m\u001b[0;34m\u001b[0m\u001b[0;34m\u001b[0m\u001b[0m\n",
            "\u001b[0m\u001b[0;32m      6 \u001b[0;31m    \u001b[0ma\u001b[0m \u001b[0;34m=\u001b[0m \u001b[0ma\u001b[0m \u001b[0;34m+\u001b[0m \u001b[0;36m2\u001b[0m\u001b[0;34m\u001b[0m\u001b[0;34m\u001b[0m\u001b[0m\n",
            "\u001b[0m\u001b[0;32m----> 7 \u001b[0;31m    \u001b[0mset_trace\u001b[0m\u001b[0;34m(\u001b[0m\u001b[0;34m)\u001b[0m\u001b[0;34m\u001b[0m\u001b[0;34m\u001b[0m\u001b[0m\n",
            "\u001b[0m\u001b[0;32m      8 \u001b[0;31m\u001b[0;32melse\u001b[0m\u001b[0;34m:\u001b[0m\u001b[0;34m\u001b[0m\u001b[0;34m\u001b[0m\u001b[0m\n",
            "\u001b[0m\u001b[0;32m      9 \u001b[0;31m    \u001b[0mset_trace\u001b[0m\u001b[0;34m(\u001b[0m\u001b[0;34m)\u001b[0m\u001b[0;34m\u001b[0m\u001b[0;34m\u001b[0m\u001b[0m\n",
            "\u001b[0m\n",
            "ipdb> s\n",
            "--Call--\n",
            "> \u001b[0;32m/usr/local/lib/python3.7/dist-packages/IPython/core/debugger.py\u001b[0m(636)\u001b[0;36mset_trace\u001b[0;34m()\u001b[0m\n",
            "\u001b[0;32m    634 \u001b[0;31m\u001b[0;34m\u001b[0m\u001b[0m\n",
            "\u001b[0m\u001b[0;32m    635 \u001b[0;31m\u001b[0;34m\u001b[0m\u001b[0m\n",
            "\u001b[0m\u001b[0;32m--> 636 \u001b[0;31m\u001b[0;32mdef\u001b[0m \u001b[0mset_trace\u001b[0m\u001b[0;34m(\u001b[0m\u001b[0mframe\u001b[0m\u001b[0;34m=\u001b[0m\u001b[0;32mNone\u001b[0m\u001b[0;34m)\u001b[0m\u001b[0;34m:\u001b[0m\u001b[0;34m\u001b[0m\u001b[0;34m\u001b[0m\u001b[0m\n",
            "\u001b[0m\u001b[0;32m    637 \u001b[0;31m    \"\"\"\n",
            "\u001b[0m\u001b[0;32m    638 \u001b[0;31m    \u001b[0mStart\u001b[0m \u001b[0mdebugging\u001b[0m \u001b[0;32mfrom\u001b[0m\u001b[0;31m \u001b[0m\u001b[0;31m`\u001b[0m\u001b[0mframe\u001b[0m\u001b[0;31m`\u001b[0m\u001b[0;34m.\u001b[0m\u001b[0;34m\u001b[0m\u001b[0;34m\u001b[0m\u001b[0m\n",
            "\u001b[0m\n",
            "ipdb> c\n"
          ]
        },
        {
          "output_type": "stream",
          "name": "stderr",
          "text": [
            "\n",
            "PYDEV DEBUGGER WARNING:\n",
            "sys.settrace() should not be used when the debugger is being used.\n",
            "This may cause the debugger to stop working correctly.\n",
            "If this is needed, please check: \n",
            "http://pydev.blogspot.com/2007/06/why-cant-pydev-debugger-work-with.html\n",
            "to see how to restore the debug tracing back correctly.\n",
            "Call Location:\n",
            "  File \"/usr/lib/python3.7/bdb.py\", line 343, in set_continue\n",
            "    sys.settrace(None)\n",
            "\n"
          ]
        },
        {
          "name": "stdout",
          "output_type": "stream",
          "text": [
            "--Return--\n",
            "None\n",
            "> \u001b[0;32m<ipython-input-1-345c8b76c8a8>\u001b[0m(7)\u001b[0;36m<module>\u001b[0;34m()\u001b[0m\n",
            "\u001b[0;32m      5 \u001b[0;31m    \u001b[0mset_trace\u001b[0m\u001b[0;34m(\u001b[0m\u001b[0;34m)\u001b[0m\u001b[0;34m\u001b[0m\u001b[0;34m\u001b[0m\u001b[0m\n",
            "\u001b[0m\u001b[0;32m      6 \u001b[0;31m    \u001b[0ma\u001b[0m \u001b[0;34m=\u001b[0m \u001b[0ma\u001b[0m \u001b[0;34m+\u001b[0m \u001b[0;36m2\u001b[0m\u001b[0;34m\u001b[0m\u001b[0;34m\u001b[0m\u001b[0m\n",
            "\u001b[0m\u001b[0;32m----> 7 \u001b[0;31m    \u001b[0mset_trace\u001b[0m\u001b[0;34m(\u001b[0m\u001b[0;34m)\u001b[0m\u001b[0;34m\u001b[0m\u001b[0;34m\u001b[0m\u001b[0m\n",
            "\u001b[0m\u001b[0;32m      8 \u001b[0;31m\u001b[0;32melse\u001b[0m\u001b[0;34m:\u001b[0m\u001b[0;34m\u001b[0m\u001b[0;34m\u001b[0m\u001b[0m\n",
            "\u001b[0m\u001b[0;32m      9 \u001b[0;31m    \u001b[0mset_trace\u001b[0m\u001b[0;34m(\u001b[0m\u001b[0;34m)\u001b[0m\u001b[0;34m\u001b[0m\u001b[0;34m\u001b[0m\u001b[0m\n",
            "\u001b[0m\n",
            "ipdb> r\n",
            "> \u001b[0;32m/usr/local/lib/python3.7/dist-packages/IPython/core/interactiveshell.py\u001b[0m(3329)\u001b[0;36mrun_code\u001b[0;34m()\u001b[0m\n",
            "\u001b[0;32m   3327 \u001b[0;31m            \u001b[0;32mfinally\u001b[0m\u001b[0;34m:\u001b[0m\u001b[0;34m\u001b[0m\u001b[0;34m\u001b[0m\u001b[0m\n",
            "\u001b[0m\u001b[0;32m   3328 \u001b[0;31m                \u001b[0;31m# Reset our crash handler in place\u001b[0m\u001b[0;34m\u001b[0m\u001b[0;34m\u001b[0m\u001b[0;34m\u001b[0m\u001b[0m\n",
            "\u001b[0m\u001b[0;32m-> 3329 \u001b[0;31m                \u001b[0msys\u001b[0m\u001b[0;34m.\u001b[0m\u001b[0mexcepthook\u001b[0m \u001b[0;34m=\u001b[0m \u001b[0mold_excepthook\u001b[0m\u001b[0;34m\u001b[0m\u001b[0;34m\u001b[0m\u001b[0m\n",
            "\u001b[0m\u001b[0;32m   3330 \u001b[0;31m        \u001b[0;32mexcept\u001b[0m \u001b[0mSystemExit\u001b[0m \u001b[0;32mas\u001b[0m \u001b[0me\u001b[0m\u001b[0;34m:\u001b[0m\u001b[0;34m\u001b[0m\u001b[0;34m\u001b[0m\u001b[0m\n",
            "\u001b[0m\u001b[0;32m   3331 \u001b[0;31m            \u001b[0;32mif\u001b[0m \u001b[0mresult\u001b[0m \u001b[0;32mis\u001b[0m \u001b[0;32mnot\u001b[0m \u001b[0;32mNone\u001b[0m\u001b[0;34m:\u001b[0m\u001b[0;34m\u001b[0m\u001b[0;34m\u001b[0m\u001b[0m\n",
            "\u001b[0m\n",
            "--KeyboardInterrupt--\n",
            "--KeyboardInterrupt--\n",
            "ipdb> e\n",
            "*** NameError: name 'e' is not defined\n",
            "ipdb> q\n"
          ]
        },
        {
          "output_type": "stream",
          "name": "stderr",
          "text": [
            "\n",
            "PYDEV DEBUGGER WARNING:\n",
            "sys.settrace() should not be used when the debugger is being used.\n",
            "This may cause the debugger to stop working correctly.\n",
            "If this is needed, please check: \n",
            "http://pydev.blogspot.com/2007/06/why-cant-pydev-debugger-work-with.html\n",
            "to see how to restore the debug tracing back correctly.\n",
            "Call Location:\n",
            "  File \"/usr/lib/python3.7/bdb.py\", line 357, in set_quit\n",
            "    sys.settrace(None)\n",
            "\n"
          ]
        },
        {
          "output_type": "error",
          "ename": "BdbQuit",
          "evalue": "ignored",
          "traceback": [
            "\u001b[0;31m---------------------------------------------------------------------------\u001b[0m",
            "\u001b[0;31mBdbQuit\u001b[0m                                   Traceback (most recent call last)",
            "\u001b[0;32m/usr/local/lib/python3.7/dist-packages/IPython/core/interactiveshell.py\u001b[0m in \u001b[0;36mrun_code\u001b[0;34m(self, code_obj, result, async_)\u001b[0m\n\u001b[1;32m   3327\u001b[0m             \u001b[0;32mfinally\u001b[0m\u001b[0;34m:\u001b[0m\u001b[0;34m\u001b[0m\u001b[0;34m\u001b[0m\u001b[0m\n\u001b[1;32m   3328\u001b[0m                 \u001b[0;31m# Reset our crash handler in place\u001b[0m\u001b[0;34m\u001b[0m\u001b[0;34m\u001b[0m\u001b[0;34m\u001b[0m\u001b[0m\n\u001b[0;32m-> 3329\u001b[0;31m                 \u001b[0msys\u001b[0m\u001b[0;34m.\u001b[0m\u001b[0mexcepthook\u001b[0m \u001b[0;34m=\u001b[0m \u001b[0mold_excepthook\u001b[0m\u001b[0;34m\u001b[0m\u001b[0;34m\u001b[0m\u001b[0m\n\u001b[0m\u001b[1;32m   3330\u001b[0m         \u001b[0;32mexcept\u001b[0m \u001b[0mSystemExit\u001b[0m \u001b[0;32mas\u001b[0m \u001b[0me\u001b[0m\u001b[0;34m:\u001b[0m\u001b[0;34m\u001b[0m\u001b[0;34m\u001b[0m\u001b[0m\n\u001b[1;32m   3331\u001b[0m             \u001b[0;32mif\u001b[0m \u001b[0mresult\u001b[0m \u001b[0;32mis\u001b[0m \u001b[0;32mnot\u001b[0m \u001b[0;32mNone\u001b[0m\u001b[0;34m:\u001b[0m\u001b[0;34m\u001b[0m\u001b[0;34m\u001b[0m\u001b[0m\n",
            "\u001b[0;32m/usr/lib/python3.7/bdb.py\u001b[0m in \u001b[0;36mtrace_dispatch\u001b[0;34m(self, frame, event, arg)\u001b[0m\n\u001b[1;32m     86\u001b[0m             \u001b[0;32mreturn\u001b[0m \u001b[0;31m# None\u001b[0m\u001b[0;34m\u001b[0m\u001b[0;34m\u001b[0m\u001b[0m\n\u001b[1;32m     87\u001b[0m         \u001b[0;32mif\u001b[0m \u001b[0mevent\u001b[0m \u001b[0;34m==\u001b[0m \u001b[0;34m'line'\u001b[0m\u001b[0;34m:\u001b[0m\u001b[0;34m\u001b[0m\u001b[0;34m\u001b[0m\u001b[0m\n\u001b[0;32m---> 88\u001b[0;31m             \u001b[0;32mreturn\u001b[0m \u001b[0mself\u001b[0m\u001b[0;34m.\u001b[0m\u001b[0mdispatch_line\u001b[0m\u001b[0;34m(\u001b[0m\u001b[0mframe\u001b[0m\u001b[0;34m)\u001b[0m\u001b[0;34m\u001b[0m\u001b[0;34m\u001b[0m\u001b[0m\n\u001b[0m\u001b[1;32m     89\u001b[0m         \u001b[0;32mif\u001b[0m \u001b[0mevent\u001b[0m \u001b[0;34m==\u001b[0m \u001b[0;34m'call'\u001b[0m\u001b[0;34m:\u001b[0m\u001b[0;34m\u001b[0m\u001b[0;34m\u001b[0m\u001b[0m\n\u001b[1;32m     90\u001b[0m             \u001b[0;32mreturn\u001b[0m \u001b[0mself\u001b[0m\u001b[0;34m.\u001b[0m\u001b[0mdispatch_call\u001b[0m\u001b[0;34m(\u001b[0m\u001b[0mframe\u001b[0m\u001b[0;34m,\u001b[0m \u001b[0marg\u001b[0m\u001b[0;34m)\u001b[0m\u001b[0;34m\u001b[0m\u001b[0;34m\u001b[0m\u001b[0m\n",
            "\u001b[0;32m/usr/lib/python3.7/bdb.py\u001b[0m in \u001b[0;36mdispatch_line\u001b[0;34m(self, frame)\u001b[0m\n\u001b[1;32m    111\u001b[0m         \u001b[0;32mif\u001b[0m \u001b[0mself\u001b[0m\u001b[0;34m.\u001b[0m\u001b[0mstop_here\u001b[0m\u001b[0;34m(\u001b[0m\u001b[0mframe\u001b[0m\u001b[0;34m)\u001b[0m \u001b[0;32mor\u001b[0m \u001b[0mself\u001b[0m\u001b[0;34m.\u001b[0m\u001b[0mbreak_here\u001b[0m\u001b[0;34m(\u001b[0m\u001b[0mframe\u001b[0m\u001b[0;34m)\u001b[0m\u001b[0;34m:\u001b[0m\u001b[0;34m\u001b[0m\u001b[0;34m\u001b[0m\u001b[0m\n\u001b[1;32m    112\u001b[0m             \u001b[0mself\u001b[0m\u001b[0;34m.\u001b[0m\u001b[0muser_line\u001b[0m\u001b[0;34m(\u001b[0m\u001b[0mframe\u001b[0m\u001b[0;34m)\u001b[0m\u001b[0;34m\u001b[0m\u001b[0;34m\u001b[0m\u001b[0m\n\u001b[0;32m--> 113\u001b[0;31m             \u001b[0;32mif\u001b[0m \u001b[0mself\u001b[0m\u001b[0;34m.\u001b[0m\u001b[0mquitting\u001b[0m\u001b[0;34m:\u001b[0m \u001b[0;32mraise\u001b[0m \u001b[0mBdbQuit\u001b[0m\u001b[0;34m\u001b[0m\u001b[0;34m\u001b[0m\u001b[0m\n\u001b[0m\u001b[1;32m    114\u001b[0m         \u001b[0;32mreturn\u001b[0m \u001b[0mself\u001b[0m\u001b[0;34m.\u001b[0m\u001b[0mtrace_dispatch\u001b[0m\u001b[0;34m\u001b[0m\u001b[0;34m\u001b[0m\u001b[0m\n\u001b[1;32m    115\u001b[0m \u001b[0;34m\u001b[0m\u001b[0m\n",
            "\u001b[0;31mBdbQuit\u001b[0m: "
          ]
        }
      ],
      "source": [
        "from IPython.core.debugger import set_trace\n",
        "a = 7\n",
        "b = 2\n",
        "if a > 0:\n",
        "    set_trace()\n",
        "    a = a + 2\n",
        "    set_trace()\n",
        "else:\n",
        "    set_trace()\n",
        "    b = a + b\n",
        "    set_trace()\n"
      ]
    },
    {
      "cell_type": "markdown",
      "metadata": {
        "id": "1RiFw5nsxskw"
      },
      "source": [
        "1. Programa el comportamiento de un modulo de un numero, es decir, si el numero es negativo le cambia el signo. Si el numero es positivo lo deja tal como esta"
      ]
    },
    {
      "cell_type": "code",
      "source": [
        "def modulo(x):\n",
        "  if x>=0:\n",
        "    return x\n",
        "  else:\n",
        "    return -1*x"
      ],
      "metadata": {
        "colab": {
          "base_uri": "https://localhost:8080/"
        },
        "id": "3gmlrNNhvUSv",
        "outputId": "bacf48be-47d0-4b22-9c0c-ed350e99d008"
      },
      "execution_count": null,
      "outputs": [
        {
          "output_type": "stream",
          "name": "stdout",
          "text": [
            "5\n",
            "5\n",
            "6\n"
          ]
        }
      ]
    },
    {
      "cell_type": "markdown",
      "metadata": {
        "id": "cy6c9-7Sxskz"
      },
      "source": [
        "2. El siguiente codigo imprime por pantalla si un numero es divisible por otro. Este codigo tiene un error, descubralo y arreglelo."
      ]
    },
    {
      "cell_type": "code",
      "execution_count": null,
      "metadata": {
        "id": "H244tq6Yxskz",
        "colab": {
          "base_uri": "https://localhost:8080/"
        },
        "outputId": "0c7182e5-0cf7-47ec-91ef-473b9cc4e4ca"
      },
      "outputs": [
        {
          "output_type": "stream",
          "name": "stdout",
          "text": [
            "5 divide a  10\n"
          ]
        }
      ],
      "source": [
        "a = 10\n",
        "b = 5\n",
        "if a%b == 0:\n",
        "    print(b,'divide a ',a)\n",
        "else:\n",
        "    print(b,'NO divide a ',a)"
      ]
    },
    {
      "cell_type": "markdown",
      "metadata": {
        "id": "N5pqxXhexsk1"
      },
      "source": [
        "3. Escriba un código que imprima por pantalla si un numero es divisible por 3 y por 2. Debe imprimir todas las condiciones posibles, es decir, si es divisible por uno y no por el otro."
      ]
    },
    {
      "cell_type": "code",
      "execution_count": null,
      "metadata": {
        "id": "KUhd8flDxsk1"
      },
      "outputs": [],
      "source": []
    },
    {
      "cell_type": "markdown",
      "metadata": {
        "id": "8Nw3oWEYxsk2"
      },
      "source": [
        "4. Escriba un código para dado un entero del 1 al 7 imprima el dia de la semana. Ahora escriba tambien una solución que resuelva lo mismo pero no use ningun if"
      ]
    },
    {
      "cell_type": "code",
      "execution_count": null,
      "metadata": {
        "id": "tUqkWIBJxsk4",
        "colab": {
          "base_uri": "https://localhost:8080/"
        },
        "outputId": "e232cae2-3267-4cb9-982d-baf717c0adca"
      },
      "outputs": [
        {
          "output_type": "stream",
          "name": "stdout",
          "text": [
            "Martes\n"
          ]
        }
      ],
      "source": [
        "dias = ['Lunes', 'Martes', 'Miercoles', 'Jueves', 'Viernes', 'Sabado', 'Domingo']\n",
        "\n",
        "dia = 2\n",
        "print(dias[dia-1])"
      ]
    },
    {
      "cell_type": "markdown",
      "metadata": {
        "id": "f0ijhQ29xsk5"
      },
      "source": [
        "## Ejercicios con Ciclos\n",
        "referencias: https://www.w3schools.com/python/python_for_loops.asp"
      ]
    },
    {
      "cell_type": "markdown",
      "metadata": {
        "id": "YzwK6jO6xsk6"
      },
      "source": [
        "5. Escriba un codigo que imprima los numeros del uno al 10 un numero por linea."
      ]
    },
    {
      "cell_type": "code",
      "execution_count": null,
      "metadata": {
        "id": "n7ZS7UCCxsk6",
        "colab": {
          "base_uri": "https://localhost:8080/"
        },
        "outputId": "42a52a1c-7a93-45be-d5b3-c3a01d6d0d4a"
      },
      "outputs": [
        {
          "output_type": "stream",
          "name": "stdout",
          "text": [
            "0\n",
            "1\n",
            "2\n",
            "3\n",
            "4\n",
            "5\n",
            "6\n",
            "7\n",
            "8\n",
            "9\n"
          ]
        }
      ],
      "source": [
        "for i in range(10):\n",
        "  print(i)"
      ]
    },
    {
      "cell_type": "markdown",
      "metadata": {
        "id": "uSIaKE_uxsk7"
      },
      "source": [
        "6. Imprima lo mismo del ejercicio anterior pero usando for y range.\n",
        "\n"
      ]
    },
    {
      "cell_type": "code",
      "execution_count": null,
      "metadata": {
        "id": "P_iXE9D-xsk7"
      },
      "outputs": [],
      "source": []
    },
    {
      "cell_type": "markdown",
      "metadata": {
        "id": "HyclvJJ_xsk8"
      },
      "source": [
        "7. Guarde en una lista todos los numeros menores a 100 que sean pares\n",
        "\n"
      ]
    },
    {
      "cell_type": "code",
      "execution_count": null,
      "metadata": {
        "id": "lcp1mtIixsk8",
        "colab": {
          "base_uri": "https://localhost:8080/"
        },
        "outputId": "d698ad28-d332-4acc-9819-be8e2bc6b68f"
      },
      "outputs": [
        {
          "output_type": "stream",
          "name": "stdout",
          "text": [
            "[0, 2, 4, 6, 8, 10, 12, 14, 16, 18, 20, 22, 24, 26, 28, 30, 32, 34, 36, 38, 40, 42, 44, 46, 48, 50, 52, 54, 56, 58, 60, 62, 64, 66, 68, 70, 72, 74, 76, 78, 80, 82, 84, 86, 88, 90, 92, 94, 96, 98]\n"
          ]
        }
      ],
      "source": [
        "numeros_pares_menores_a_100 = []\n",
        "for i in range(100):\n",
        "    # Chequeamos si el numero que estoy usando para iterar es par o no\n",
        "    if i%2==0:\n",
        "        # Si estoy aca es porque el numero es par, entonces lo agrego a la lista numeros_pares_menores_a_100\n",
        "        numeros_pares_menores_a_100.append(i)\n",
        "        \n",
        "# Imprimo los numeros pares menores a 100 \n",
        "print(numeros_pares_menores_a_100)\n",
        "    \n",
        "        "
      ]
    },
    {
      "cell_type": "markdown",
      "metadata": {
        "id": "vwuit_H_xsk8"
      },
      "source": [
        "8. Calcule todos los divisores de un número $n$. Pruebe distintos valores para la variable $n$. Pruebe escribirlos con un $while$ y con un $for$\n",
        "\n"
      ]
    },
    {
      "cell_type": "code",
      "execution_count": null,
      "metadata": {
        "id": "DqsOOWojxsk9",
        "colab": {
          "base_uri": "https://localhost:8080/"
        },
        "outputId": "271df85e-c620-4077-f528-1ebc35f805b1"
      },
      "outputs": [
        {
          "output_type": "stream",
          "name": "stdout",
          "text": [
            "[1, 3, 41]\n"
          ]
        }
      ],
      "source": [
        "n = 123\n",
        "lista_de_divisores = []\n",
        "for i in range(1,n):\n",
        "  if n%i==0:\n",
        "    lista_de_divisores.append(i)\n",
        "# Imprimo los divisores de a 1 \n",
        "print(lista_de_divisores)\n",
        "\n"
      ]
    },
    {
      "cell_type": "markdown",
      "metadata": {
        "id": "IwuDBNERxsk-"
      },
      "source": [
        "9. Imprima por pantalla todos los numeros primos menos a $n$, pruebe con diferentes valores de $n$\n",
        "\n"
      ]
    },
    {
      "cell_type": "code",
      "execution_count": null,
      "metadata": {
        "id": "nB-zbEybxsk-"
      },
      "outputs": [],
      "source": []
    },
    {
      "cell_type": "markdown",
      "metadata": {
        "id": "-3UVUOoUxsk_"
      },
      "source": [
        "## Ejercicios con funciones"
      ]
    },
    {
      "cell_type": "markdown",
      "metadata": {
        "id": "edtda4Swxsk_"
      },
      "source": [
        "10. Encapsule las funciones de los ejercicios 8 y 9 de modo que tomen el parámetro $n$. Experimente con diferentes parámetros"
      ]
    },
    {
      "cell_type": "code",
      "execution_count": null,
      "metadata": {
        "id": "WtrRHSsKxsk_"
      },
      "outputs": [],
      "source": [
        "# Funcion lista de divisores\n",
        "def lista_de_divisores(n):\n",
        "    <CODIGO>\n",
        "\n",
        "# Funcion codigo numeros primos menores a n\n",
        "<CODIGO>\n",
        "\n",
        "\n"
      ]
    },
    {
      "cell_type": "markdown",
      "metadata": {
        "id": "f_K6fnckxslA"
      },
      "source": [
        "11. Escriba una funcion que calcule todos los numeros divisibles por 7 pero no multiplos de 5 entre 1000 y 5000.\n",
        "\n",
        "La funcion debe devolver una lista con estos numeros\n",
        "Hints: Puede usar la funcion range(desde,hasta)\n"
      ]
    },
    {
      "cell_type": "code",
      "source": [
        "def multip():\n",
        "  for i in range(1000,5000):\n",
        "    if i%7 == 0 and i%5 != 0:\n",
        "      print(i)\n",
        "\n",
        "multip()"
      ],
      "metadata": {
        "colab": {
          "base_uri": "https://localhost:8080/"
        },
        "id": "4hGigaqC0kjt",
        "outputId": "bd50284f-84ae-4dee-cc04-78b08bc3a9b8"
      },
      "execution_count": null,
      "outputs": [
        {
          "output_type": "stream",
          "name": "stdout",
          "text": [
            "1001\n",
            "1008\n",
            "1022\n",
            "1029\n",
            "1036\n",
            "1043\n",
            "1057\n",
            "1064\n",
            "1071\n",
            "1078\n",
            "1092\n",
            "1099\n",
            "1106\n",
            "1113\n",
            "1127\n",
            "1134\n",
            "1141\n",
            "1148\n",
            "1162\n",
            "1169\n",
            "1176\n",
            "1183\n",
            "1197\n",
            "1204\n",
            "1211\n",
            "1218\n",
            "1232\n",
            "1239\n",
            "1246\n",
            "1253\n",
            "1267\n",
            "1274\n",
            "1281\n",
            "1288\n",
            "1302\n",
            "1309\n",
            "1316\n",
            "1323\n",
            "1337\n",
            "1344\n",
            "1351\n",
            "1358\n",
            "1372\n",
            "1379\n",
            "1386\n",
            "1393\n",
            "1407\n",
            "1414\n",
            "1421\n",
            "1428\n",
            "1442\n",
            "1449\n",
            "1456\n",
            "1463\n",
            "1477\n",
            "1484\n",
            "1491\n",
            "1498\n",
            "1512\n",
            "1519\n",
            "1526\n",
            "1533\n",
            "1547\n",
            "1554\n",
            "1561\n",
            "1568\n",
            "1582\n",
            "1589\n",
            "1596\n",
            "1603\n",
            "1617\n",
            "1624\n",
            "1631\n",
            "1638\n",
            "1652\n",
            "1659\n",
            "1666\n",
            "1673\n",
            "1687\n",
            "1694\n",
            "1701\n",
            "1708\n",
            "1722\n",
            "1729\n",
            "1736\n",
            "1743\n",
            "1757\n",
            "1764\n",
            "1771\n",
            "1778\n",
            "1792\n",
            "1799\n",
            "1806\n",
            "1813\n",
            "1827\n",
            "1834\n",
            "1841\n",
            "1848\n",
            "1862\n",
            "1869\n",
            "1876\n",
            "1883\n",
            "1897\n",
            "1904\n",
            "1911\n",
            "1918\n",
            "1932\n",
            "1939\n",
            "1946\n",
            "1953\n",
            "1967\n",
            "1974\n",
            "1981\n",
            "1988\n",
            "2002\n",
            "2009\n",
            "2016\n",
            "2023\n",
            "2037\n",
            "2044\n",
            "2051\n",
            "2058\n",
            "2072\n",
            "2079\n",
            "2086\n",
            "2093\n",
            "2107\n",
            "2114\n",
            "2121\n",
            "2128\n",
            "2142\n",
            "2149\n",
            "2156\n",
            "2163\n",
            "2177\n",
            "2184\n",
            "2191\n",
            "2198\n",
            "2212\n",
            "2219\n",
            "2226\n",
            "2233\n",
            "2247\n",
            "2254\n",
            "2261\n",
            "2268\n",
            "2282\n",
            "2289\n",
            "2296\n",
            "2303\n",
            "2317\n",
            "2324\n",
            "2331\n",
            "2338\n",
            "2352\n",
            "2359\n",
            "2366\n",
            "2373\n",
            "2387\n",
            "2394\n",
            "2401\n",
            "2408\n",
            "2422\n",
            "2429\n",
            "2436\n",
            "2443\n",
            "2457\n",
            "2464\n",
            "2471\n",
            "2478\n",
            "2492\n",
            "2499\n",
            "2506\n",
            "2513\n",
            "2527\n",
            "2534\n",
            "2541\n",
            "2548\n",
            "2562\n",
            "2569\n",
            "2576\n",
            "2583\n",
            "2597\n",
            "2604\n",
            "2611\n",
            "2618\n",
            "2632\n",
            "2639\n",
            "2646\n",
            "2653\n",
            "2667\n",
            "2674\n",
            "2681\n",
            "2688\n",
            "2702\n",
            "2709\n",
            "2716\n",
            "2723\n",
            "2737\n",
            "2744\n",
            "2751\n",
            "2758\n",
            "2772\n",
            "2779\n",
            "2786\n",
            "2793\n",
            "2807\n",
            "2814\n",
            "2821\n",
            "2828\n",
            "2842\n",
            "2849\n",
            "2856\n",
            "2863\n",
            "2877\n",
            "2884\n",
            "2891\n",
            "2898\n",
            "2912\n",
            "2919\n",
            "2926\n",
            "2933\n",
            "2947\n",
            "2954\n",
            "2961\n",
            "2968\n",
            "2982\n",
            "2989\n",
            "2996\n",
            "3003\n",
            "3017\n",
            "3024\n",
            "3031\n",
            "3038\n",
            "3052\n",
            "3059\n",
            "3066\n",
            "3073\n",
            "3087\n",
            "3094\n",
            "3101\n",
            "3108\n",
            "3122\n",
            "3129\n",
            "3136\n",
            "3143\n",
            "3157\n",
            "3164\n",
            "3171\n",
            "3178\n",
            "3192\n",
            "3199\n",
            "3206\n",
            "3213\n",
            "3227\n",
            "3234\n",
            "3241\n",
            "3248\n",
            "3262\n",
            "3269\n",
            "3276\n",
            "3283\n",
            "3297\n",
            "3304\n",
            "3311\n",
            "3318\n",
            "3332\n",
            "3339\n",
            "3346\n",
            "3353\n",
            "3367\n",
            "3374\n",
            "3381\n",
            "3388\n",
            "3402\n",
            "3409\n",
            "3416\n",
            "3423\n",
            "3437\n",
            "3444\n",
            "3451\n",
            "3458\n",
            "3472\n",
            "3479\n",
            "3486\n",
            "3493\n",
            "3507\n",
            "3514\n",
            "3521\n",
            "3528\n",
            "3542\n",
            "3549\n",
            "3556\n",
            "3563\n",
            "3577\n",
            "3584\n",
            "3591\n",
            "3598\n",
            "3612\n",
            "3619\n",
            "3626\n",
            "3633\n",
            "3647\n",
            "3654\n",
            "3661\n",
            "3668\n",
            "3682\n",
            "3689\n",
            "3696\n",
            "3703\n",
            "3717\n",
            "3724\n",
            "3731\n",
            "3738\n",
            "3752\n",
            "3759\n",
            "3766\n",
            "3773\n",
            "3787\n",
            "3794\n",
            "3801\n",
            "3808\n",
            "3822\n",
            "3829\n",
            "3836\n",
            "3843\n",
            "3857\n",
            "3864\n",
            "3871\n",
            "3878\n",
            "3892\n",
            "3899\n",
            "3906\n",
            "3913\n",
            "3927\n",
            "3934\n",
            "3941\n",
            "3948\n",
            "3962\n",
            "3969\n",
            "3976\n",
            "3983\n",
            "3997\n",
            "4004\n",
            "4011\n",
            "4018\n",
            "4032\n",
            "4039\n",
            "4046\n",
            "4053\n",
            "4067\n",
            "4074\n",
            "4081\n",
            "4088\n",
            "4102\n",
            "4109\n",
            "4116\n",
            "4123\n",
            "4137\n",
            "4144\n",
            "4151\n",
            "4158\n",
            "4172\n",
            "4179\n",
            "4186\n",
            "4193\n",
            "4207\n",
            "4214\n",
            "4221\n",
            "4228\n",
            "4242\n",
            "4249\n",
            "4256\n",
            "4263\n",
            "4277\n",
            "4284\n",
            "4291\n",
            "4298\n",
            "4312\n",
            "4319\n",
            "4326\n",
            "4333\n",
            "4347\n",
            "4354\n",
            "4361\n",
            "4368\n",
            "4382\n",
            "4389\n",
            "4396\n",
            "4403\n",
            "4417\n",
            "4424\n",
            "4431\n",
            "4438\n",
            "4452\n",
            "4459\n",
            "4466\n",
            "4473\n",
            "4487\n",
            "4494\n",
            "4501\n",
            "4508\n",
            "4522\n",
            "4529\n",
            "4536\n",
            "4543\n",
            "4557\n",
            "4564\n",
            "4571\n",
            "4578\n",
            "4592\n",
            "4599\n",
            "4606\n",
            "4613\n",
            "4627\n",
            "4634\n",
            "4641\n",
            "4648\n",
            "4662\n",
            "4669\n",
            "4676\n",
            "4683\n",
            "4697\n",
            "4704\n",
            "4711\n",
            "4718\n",
            "4732\n",
            "4739\n",
            "4746\n",
            "4753\n",
            "4767\n",
            "4774\n",
            "4781\n",
            "4788\n",
            "4802\n",
            "4809\n",
            "4816\n",
            "4823\n",
            "4837\n",
            "4844\n",
            "4851\n",
            "4858\n",
            "4872\n",
            "4879\n",
            "4886\n",
            "4893\n",
            "4907\n",
            "4914\n",
            "4921\n",
            "4928\n",
            "4942\n",
            "4949\n",
            "4956\n",
            "4963\n",
            "4977\n",
            "4984\n",
            "4991\n",
            "4998\n"
          ]
        }
      ]
    },
    {
      "cell_type": "markdown",
      "metadata": {
        "id": "hGCYDmQYxslA"
      },
      "source": [
        "12. Haga una función que calcule el factorial de un numero $n$"
      ]
    },
    {
      "cell_type": "code",
      "execution_count": null,
      "metadata": {
        "id": "iFyX_hstxslA",
        "colab": {
          "base_uri": "https://localhost:8080/"
        },
        "outputId": "e63a91d0-fe3d-4f74-eee0-7b367134fb61"
      },
      "outputs": [
        {
          "output_type": "execute_result",
          "data": {
            "text/plain": [
              "24"
            ]
          },
          "metadata": {},
          "execution_count": 28
        }
      ],
      "source": [
        "def fact(n):\n",
        "  if n == 0:\n",
        "    return 1\n",
        "  else:\n",
        "    return n * fact(n-1)\n",
        "\n",
        "fact(4)"
      ]
    },
    {
      "cell_type": "markdown",
      "metadata": {
        "id": "slI1ufw9xslB"
      },
      "source": [
        "13. Escriba una función que devuelva un diccionario donde las claves sean los numeros del 1 al $n$ (con $n$ parametro de la función) y en el significado de cada clave este guardado el cuadrado de ese numero.\n",
        "\n",
        "Por ejemplo si a la función le entra un 4 la funcion debe devolver {1:1,2:4,3:9,4:16}"
      ]
    },
    {
      "cell_type": "code",
      "execution_count": null,
      "metadata": {
        "id": "mHy0TbcOxslB",
        "colab": {
          "base_uri": "https://localhost:8080/"
        },
        "outputId": "3628eee8-d807-4808-ff2f-182dfd164f82"
      },
      "outputs": [
        {
          "output_type": "stream",
          "name": "stdout",
          "text": [
            "{1: 1, 2: 4, 3: 9, 4: 16}\n"
          ]
        }
      ],
      "source": [
        "def squares(n):\n",
        "  dict = {}\n",
        "  for i in range(1,n+1):\n",
        "    dict[i] = i **2\n",
        "  print(dict)\n",
        "\n",
        "squares(4)"
      ]
    },
    {
      "cell_type": "markdown",
      "metadata": {
        "id": "GPaoW73ZxslB"
      },
      "source": [
        "14. Escriba una función que tome una lista de enteros y devuelva una lista de lista, donde cada lista contenga los divisores del numero correspondiente.\n",
        "\n",
        "Por ejemplo si función toma como entrada [3,6,12,11], la salida debe ser [[1,3],[1,2,3,6],[1,2,3,6,12],[1,11]]"
      ]
    },
    {
      "cell_type": "code",
      "execution_count": null,
      "metadata": {
        "id": "xsKtPwt2xslB"
      },
      "outputs": [],
      "source": []
    },
    {
      "cell_type": "markdown",
      "metadata": {
        "id": "tlXbFbcyxslB"
      },
      "source": [
        "15. Escriba una función que tome un numero entero y devuelva una lista con tuplas con los numeros primos que lo dividen y la cantidad de veces que el numero primo lo divide.\n",
        "\n",
        "Por ejemplo, si entra el número 2223000 la función debe devolver: [(2,3),(3,2),(13,1),(19,1)] pues $2^3 \\times 3^2 \\times 13^1 \\times 19^1 = 2223000$"
      ]
    },
    {
      "cell_type": "code",
      "execution_count": null,
      "metadata": {
        "id": "OaaiLRKNxslC"
      },
      "outputs": [],
      "source": [
        "\"\"\"\n",
        "Esto es una tupla en python, puede tener una cantidad fija \n",
        "pero arbitraria de elementos (es decir puede ser tan grande\n",
        "como se quiera pero no puede mutar)\"\"\"\n",
        "tupla = (3,6) "
      ]
    },
    {
      "cell_type": "markdown",
      "metadata": {
        "id": "5DvY3mnwxslC"
      },
      "source": [
        "16. Un número palíndromo se lee del derecho y el reves de la misma forma. El palindrome hecho por el producto de dos numeros de dos digitos mas grande es 9009 pues es producto de $91*99$\n",
        "\n",
        "Escriba un código para crear el palindromo más grande hecho por el pruducto de 2 numeros de 3 digitos\n",
        "\n",
        "Nota: Este ejercicio fue tomado de: https://projecteuler.net/problem=4\n"
      ]
    },
    {
      "cell_type": "code",
      "execution_count": null,
      "metadata": {
        "id": "PnrCvwPxxslC"
      },
      "outputs": [],
      "source": []
    },
    {
      "cell_type": "markdown",
      "metadata": {
        "id": "qjjDObK5xslC"
      },
      "source": [
        "17. Escriba una función que devuelve el $i-esimo$ número de la sucesión de Fibonacci  (https://en.wikipedia.org/wiki/Fibonacci_number)"
      ]
    },
    {
      "cell_type": "code",
      "execution_count": null,
      "metadata": {
        "id": "9-sNBAKjxslC"
      },
      "outputs": [],
      "source": []
    }
  ],
  "metadata": {
    "colab": {
      "collapsed_sections": [],
      "name": "Python.ipynb",
      "provenance": []
    },
    "kernelspec": {
      "display_name": "Python 3",
      "language": "python",
      "name": "python3"
    },
    "language_info": {
      "codemirror_mode": {
        "name": "ipython",
        "version": 3
      },
      "file_extension": ".py",
      "mimetype": "text/x-python",
      "name": "python",
      "nbconvert_exporter": "python",
      "pygments_lexer": "ipython3",
      "version": "3.7.3"
    }
  },
  "nbformat": 4,
  "nbformat_minor": 0
}