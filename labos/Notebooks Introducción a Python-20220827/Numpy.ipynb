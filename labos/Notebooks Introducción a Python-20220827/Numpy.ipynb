{
  "cells": [
    {
      "cell_type": "code",
      "execution_count": null,
      "metadata": {
        "id": "ujS2ElDs9beP"
      },
      "outputs": [],
      "source": [
        "#H Hacemos los imports correspondientes a numpy\n",
        "import numpy as np\n",
        "import numpy.linalg as lng"
      ]
    },
    {
      "cell_type": "markdown",
      "metadata": {
        "id": "LI4gkvqE9beT"
      },
      "source": [
        "### Ejemplos\n",
        "Algunos ejemplos de operaciones matriciales básicas disponibles en numpy"
      ]
    },
    {
      "cell_type": "code",
      "execution_count": null,
      "metadata": {
        "id": "Rrep5XDw9beh"
      },
      "outputs": [],
      "source": [
        "# Distintas maneras de inicializar una matriz\n",
        "A = np.array([[1,2],[3,4]])\n",
        "B = np.array(np.mat('9 10; 11 12')) # Subclase\n",
        "C = np.array([[5,6],[7,8]], dtype=float)\n",
        "\n",
        "# Para los vectores usamos matrices por columnas\n",
        "v = np.array([[11],[12]])\n",
        "w = np.array(np.mat('17; 18')) # Subclase\n",
        "x = np.array([21,22,23,24], ndmin=4)"
      ]
    },
    {
      "cell_type": "code",
      "execution_count": null,
      "metadata": {
        "id": "kC84w9Pp9bei"
      },
      "outputs": [],
      "source": [
        "#A + np.arange(2)"
      ]
    },
    {
      "cell_type": "code",
      "execution_count": null,
      "metadata": {
        "colab": {
          "base_uri": "https://localhost:8080/"
        },
        "id": "QGPnDMGg9bej",
        "outputId": "05393488-2f3c-415d-9d4d-7567c805c812"
      },
      "outputs": [
        {
          "output_type": "execute_result",
          "data": {
            "text/plain": [
              "array([[-2. ,  1. ],\n",
              "       [ 1.5, -0.5]])"
            ]
          },
          "metadata": {},
          "execution_count": 4
        }
      ],
      "source": [
        "# Matrices especiales\n",
        "I = np.eye(3) # Identidad de 3x3\n",
        "D = np.diag([77,90]) # Matriz diagonal\n",
        "N = np.zeros((3,4)) # Matriz nula de 3x3\n",
        "\n",
        "# Operaciones basicas entre matrices y vectores\n",
        "A + B       # Suma\n",
        "A - B       # Resta\n",
        "A @ B       # Producto de matrices\n",
        "A @ v       # Producto de matriz por vector\n",
        "3.2 * A     # Producto por escalar\n",
        "A**2        # Potencia\n",
        "A.T         # Traspuesta (transpose())\n",
        "lng.inv(A)  # Inversa"
      ]
    },
    {
      "cell_type": "markdown",
      "metadata": {
        "id": "AyYszXZ69bek"
      },
      "source": [
        "### Ejercicio 1\n",
        "Dados x<sub>1</sub>, ..., x<sub>n</sub> una muestra de una variable aleatoria, implementar rutinas que calculen la media y la varianza utilizando operaciones vectoriales."
      ]
    },
    {
      "cell_type": "code",
      "execution_count": null,
      "metadata": {
        "colab": {
          "base_uri": "https://localhost:8080/"
        },
        "id": "TV4iCf6W9bek",
        "outputId": "140fb578-8d93-42fd-8568-8f021a292799"
      },
      "outputs": [
        {
          "output_type": "stream",
          "name": "stdout",
          "text": [
            "4.5\n",
            "8.25\n"
          ]
        }
      ],
      "source": [
        "x = np.arange(10)\n",
        "\n",
        "def mean(x):\n",
        "    sum = 0\n",
        "    for i in x:\n",
        "      sum = sum + i\n",
        "    return sum / x.size\n",
        "\n",
        "print(mean(x))\n",
        "    \n",
        "def var(x):\n",
        "    prom = mean(x)\n",
        "    sum = 0\n",
        "    for i in x:\n",
        "      sum += (i - prom) ** 2\n",
        "    return sum / x.size\n",
        "\n",
        "print(var(x))\n",
        "    "
      ]
    },
    {
      "cell_type": "code",
      "execution_count": null,
      "metadata": {
        "colab": {
          "base_uri": "https://localhost:8080/"
        },
        "id": "ljIyy_Fl9bem",
        "outputId": "90fe7222-9365-4d6b-f0ab-ab1a3ad48591"
      },
      "outputs": [
        {
          "output_type": "stream",
          "name": "stdout",
          "text": [
            "x:[[0.98559004]\n",
            " [0.83300459]\n",
            " [0.56160253]\n",
            " [0.9174814 ]]\n",
            " media: [0.82441964] varianza: [0.02594573]\n",
            "OK\n"
          ]
        }
      ],
      "source": [
        "N = 4\n",
        "x = np.array(np.random.rand(N,1))\n",
        "print(\"x:\" + str(x) + \"\\n media: \" + str(mean(x)) + \" varianza: \" + str(var(x)))\n",
        "assert(np.abs(mean(x) - np.mean(x)) < 1e-6 )\n",
        "assert(np.abs(var(x) - np.var(x)) < 1e-6 )\n",
        "print(\"OK\")"
      ]
    },
    {
      "cell_type": "markdown",
      "metadata": {
        "id": "mNtG7dFX9ben"
      },
      "source": [
        "### Ejercicio 2\n",
        "Sea A matriz en R<sup>m×n</sup><br>\n",
        "1. Demostrar que A<sup>t</sup> A y AA<sup>t</sup> son simétricas<br>\n",
        "2. Implementar una rutina que dada una matriz cuadrada verifique si la misma es simétrica"
      ]
    },
    {
      "cell_type": "code",
      "execution_count": null,
      "metadata": {
        "id": "PMTqVB-q9beo"
      },
      "outputs": [],
      "source": [
        "def esSimetrica(A): \n",
        "  print(A)\n",
        "  return np.allclose(A,A.T)\n",
        "    # COMPLETAR\n",
        "    \n"
      ]
    },
    {
      "cell_type": "code",
      "execution_count": null,
      "metadata": {
        "colab": {
          "base_uri": "https://localhost:8080/",
          "height": 689
        },
        "id": "kkt5HJr29beo",
        "outputId": "94d57722-a655-4006-bcfb-017d5b6187f6"
      },
      "outputs": [
        {
          "output_type": "stream",
          "name": "stdout",
          "text": [
            "A: \n",
            "[[1 2]\n",
            " [2 6]\n",
            " [3 7]\n",
            " [4 8]]\n",
            "B: \n",
            "[[0.94324641 0.81747033 0.08165522 0.96709442]\n",
            " [0.9967538  0.1478719  0.11449438 0.2402945 ]\n",
            " [0.50288866 0.99883298 0.75770149 0.09406764]\n",
            " [0.94842667 0.85939974 0.12293622 0.99375075]]\n",
            "[[ 5 14 17 20]\n",
            " [14 40 48 56]\n",
            " [17 48 58 68]\n",
            " [20 56 68 80]]\n"
          ]
        },
        {
          "output_type": "error",
          "ename": "TypeError",
          "evalue": "ignored",
          "traceback": [
            "\u001b[0;31m---------------------------------------------------------------------------\u001b[0m",
            "\u001b[0;31mTypeError\u001b[0m                                 Traceback (most recent call last)",
            "\u001b[0;32m<ipython-input-12-ff26c1c5c291>\u001b[0m in \u001b[0;36m<module>\u001b[0;34m\u001b[0m\n\u001b[1;32m      4\u001b[0m \u001b[0mprint\u001b[0m\u001b[0;34m(\u001b[0m\u001b[0;34m\"A: \\n\"\u001b[0m  \u001b[0;34m+\u001b[0m \u001b[0mstr\u001b[0m\u001b[0;34m(\u001b[0m\u001b[0mA\u001b[0m\u001b[0;34m)\u001b[0m\u001b[0;34m)\u001b[0m\u001b[0;34m\u001b[0m\u001b[0;34m\u001b[0m\u001b[0m\n\u001b[1;32m      5\u001b[0m \u001b[0mprint\u001b[0m\u001b[0;34m(\u001b[0m\u001b[0;34m\"B: \\n\"\u001b[0m \u001b[0;34m+\u001b[0m \u001b[0mstr\u001b[0m\u001b[0;34m(\u001b[0m\u001b[0mB\u001b[0m\u001b[0;34m)\u001b[0m\u001b[0;34m)\u001b[0m\u001b[0;34m\u001b[0m\u001b[0;34m\u001b[0m\u001b[0m\n\u001b[0;32m----> 6\u001b[0;31m \u001b[0;32massert\u001b[0m\u001b[0;34m(\u001b[0m\u001b[0mesSimetrica\u001b[0m\u001b[0;34m(\u001b[0m\u001b[0mA\u001b[0m \u001b[0;34m@\u001b[0m \u001b[0mA\u001b[0m\u001b[0;34m.\u001b[0m\u001b[0mT\u001b[0m\u001b[0;34m)\u001b[0m\u001b[0;34m)\u001b[0m\u001b[0;34m\u001b[0m\u001b[0;34m\u001b[0m\u001b[0m\n\u001b[0m\u001b[1;32m      7\u001b[0m \u001b[0;32massert\u001b[0m\u001b[0;34m(\u001b[0m\u001b[0mesSimetrica\u001b[0m\u001b[0;34m(\u001b[0m\u001b[0mB\u001b[0m\u001b[0;34m.\u001b[0m\u001b[0mT\u001b[0m \u001b[0;34m@\u001b[0m \u001b[0mB\u001b[0m\u001b[0;34m)\u001b[0m\u001b[0;34m)\u001b[0m\u001b[0;34m\u001b[0m\u001b[0;34m\u001b[0m\u001b[0m\n\u001b[1;32m      8\u001b[0m \u001b[0mprint\u001b[0m\u001b[0;34m(\u001b[0m\u001b[0;34m\"OK\"\u001b[0m\u001b[0;34m)\u001b[0m\u001b[0;34m\u001b[0m\u001b[0;34m\u001b[0m\u001b[0m\n",
            "\u001b[0;32m<ipython-input-11-093a0d338251>\u001b[0m in \u001b[0;36mesSimetrica\u001b[0;34m(A)\u001b[0m\n\u001b[1;32m      1\u001b[0m \u001b[0;32mdef\u001b[0m \u001b[0mesSimetrica\u001b[0m\u001b[0;34m(\u001b[0m\u001b[0mA\u001b[0m\u001b[0;34m)\u001b[0m\u001b[0;34m:\u001b[0m\u001b[0;34m\u001b[0m\u001b[0;34m\u001b[0m\u001b[0m\n\u001b[1;32m      2\u001b[0m   \u001b[0mprint\u001b[0m\u001b[0;34m(\u001b[0m\u001b[0mA\u001b[0m\u001b[0;34m)\u001b[0m\u001b[0;34m\u001b[0m\u001b[0;34m\u001b[0m\u001b[0m\n\u001b[0;32m----> 3\u001b[0;31m   \u001b[0;32mreturn\u001b[0m \u001b[0mnp\u001b[0m\u001b[0;34m.\u001b[0m\u001b[0mall\u001b[0m\u001b[0;34m(\u001b[0m\u001b[0mA\u001b[0m\u001b[0;34m,\u001b[0m\u001b[0mA\u001b[0m\u001b[0;34m.\u001b[0m\u001b[0mT\u001b[0m\u001b[0;34m)\u001b[0m \u001b[0;31m#np.allclose(A,A.T)\u001b[0m\u001b[0;34m\u001b[0m\u001b[0;34m\u001b[0m\u001b[0m\n\u001b[0m\u001b[1;32m      4\u001b[0m     \u001b[0;31m# COMPLETAR\u001b[0m\u001b[0;34m\u001b[0m\u001b[0;34m\u001b[0m\u001b[0;34m\u001b[0m\u001b[0m\n\u001b[1;32m      5\u001b[0m \u001b[0;34m\u001b[0m\u001b[0m\n",
            "\u001b[0;32m<__array_function__ internals>\u001b[0m in \u001b[0;36mall\u001b[0;34m(*args, **kwargs)\u001b[0m\n",
            "\u001b[0;32m/usr/local/lib/python3.7/dist-packages/numpy/core/fromnumeric.py\u001b[0m in \u001b[0;36mall\u001b[0;34m(a, axis, out, keepdims, where)\u001b[0m\n\u001b[1;32m   2449\u001b[0m     \"\"\"\n\u001b[1;32m   2450\u001b[0m     return _wrapreduction(a, np.logical_and, 'all', axis, None, out,\n\u001b[0;32m-> 2451\u001b[0;31m                           keepdims=keepdims, where=where)\n\u001b[0m\u001b[1;32m   2452\u001b[0m \u001b[0;34m\u001b[0m\u001b[0m\n\u001b[1;32m   2453\u001b[0m \u001b[0;34m\u001b[0m\u001b[0m\n",
            "\u001b[0;32m/usr/local/lib/python3.7/dist-packages/numpy/core/fromnumeric.py\u001b[0m in \u001b[0;36m_wrapreduction\u001b[0;34m(obj, ufunc, method, axis, dtype, out, **kwargs)\u001b[0m\n\u001b[1;32m     84\u001b[0m                 \u001b[0;32mreturn\u001b[0m \u001b[0mreduction\u001b[0m\u001b[0;34m(\u001b[0m\u001b[0maxis\u001b[0m\u001b[0;34m=\u001b[0m\u001b[0maxis\u001b[0m\u001b[0;34m,\u001b[0m \u001b[0mout\u001b[0m\u001b[0;34m=\u001b[0m\u001b[0mout\u001b[0m\u001b[0;34m,\u001b[0m \u001b[0;34m**\u001b[0m\u001b[0mpasskwargs\u001b[0m\u001b[0;34m)\u001b[0m\u001b[0;34m\u001b[0m\u001b[0;34m\u001b[0m\u001b[0m\n\u001b[1;32m     85\u001b[0m \u001b[0;34m\u001b[0m\u001b[0m\n\u001b[0;32m---> 86\u001b[0;31m     \u001b[0;32mreturn\u001b[0m \u001b[0mufunc\u001b[0m\u001b[0;34m.\u001b[0m\u001b[0mreduce\u001b[0m\u001b[0;34m(\u001b[0m\u001b[0mobj\u001b[0m\u001b[0;34m,\u001b[0m \u001b[0maxis\u001b[0m\u001b[0;34m,\u001b[0m \u001b[0mdtype\u001b[0m\u001b[0;34m,\u001b[0m \u001b[0mout\u001b[0m\u001b[0;34m,\u001b[0m \u001b[0;34m**\u001b[0m\u001b[0mpasskwargs\u001b[0m\u001b[0;34m)\u001b[0m\u001b[0;34m\u001b[0m\u001b[0;34m\u001b[0m\u001b[0m\n\u001b[0m\u001b[1;32m     87\u001b[0m \u001b[0;34m\u001b[0m\u001b[0m\n\u001b[1;32m     88\u001b[0m \u001b[0;34m\u001b[0m\u001b[0m\n",
            "\u001b[0;31mTypeError\u001b[0m: only integer scalar arrays can be converted to a scalar index"
          ]
        }
      ],
      "source": [
        "A = np.array([[1,2],[2,6],[3,7],[4,8]])\n",
        "B = np.random.rand(4,4)\n",
        "\n",
        "print(\"A: \\n\"  + str(A))\n",
        "print(\"B: \\n\" + str(B))\n",
        "assert(esSimetrica(A @ A.T))\n",
        "assert(esSimetrica(B.T @ B))\n",
        "print(\"OK\")"
      ]
    },
    {
      "cell_type": "markdown",
      "metadata": {
        "id": "SHdmEZy49bep"
      },
      "source": [
        "### Ejercicio 3\n",
        "\n",
        "Analizar la función implementada en el item anterior con la matriz B generada de la siguiente forma:\n",
        "\n",
        "`A = np.random.rand(4,4)\n",
        "B = A.T * A * 0.1 / 0.1`\n",
        "\n",
        "Analizar el resultado, revisar la implementación y (eventualmente) reimplementar la función."
      ]
    },
    {
      "cell_type": "code",
      "execution_count": null,
      "metadata": {
        "colab": {
          "base_uri": "https://localhost:8080/"
        },
        "id": "JGmkiEPz9beq",
        "outputId": "4fb51276-296c-47b1-f04c-ec7d651f6897"
      },
      "outputs": [
        {
          "output_type": "stream",
          "name": "stdout",
          "text": [
            "[[0.92567991 0.2548934  0.28494302 0.43387066]\n",
            " [0.51318896 0.02852458 0.23373903 0.19954862]\n",
            " [0.40011516 0.20812569 0.0151232  0.89934521]\n",
            " [0.70024236 0.87620829 0.19681646 0.27508787]]\n",
            "[[0.92567991 0.2548934  0.28494302 0.43387066]\n",
            " [0.51318896 0.02852458 0.23373903 0.19954862]\n",
            " [0.40011516 0.20812569 0.0151232  0.89934521]\n",
            " [0.70024236 0.87620829 0.19681646 0.27508787]]\n",
            "[[1.77067771 0.9474206  0.52758856 1.05650133]\n",
            " [0.9474206  0.87684156 0.25489714 0.54449392]\n",
            " [0.52758856 0.25489714 0.17479189 0.23801351]\n",
            " [1.05650133 0.54449392 0.23801351 1.11255854]]\n",
            "[[1 0]\n",
            " [0 2]]\n",
            "[[1. 0. 0. 0. 0.]\n",
            " [0. 1. 0. 0. 0.]\n",
            " [0. 0. 1. 0. 0.]\n",
            " [0. 0. 0. 1. 0.]\n",
            " [0. 0. 0. 0. 1.]]\n",
            "Ok\n"
          ]
        }
      ],
      "source": [
        "D = np.array(np.diag([1,2]))\n",
        "I = np.array(np.eye(5))\n",
        "A = np.random.rand(4,4)\n",
        "\n",
        "print(A)\n",
        "assert(not(esSimetrica(A)))\n",
        "\n",
        "# Ojo! usamos @ para el producto matricial\n",
        "assert(esSimetrica(A.T@(A*0.10)/0.10))\n",
        "assert(esSimetrica(D) and esSimetrica(I))\n",
        "print(\"Ok\")"
      ]
    },
    {
      "cell_type": "markdown",
      "metadata": {
        "id": "FD45FAQc9beq"
      },
      "source": [
        "### Ejercicio 4\n",
        "Sean A, B en R<sup>n×n</sup>, con n par y B triangular inferior,\n",
        "1. Realizar la multiplicación AB por bloques, partiendo ambas matrices en bloques de tamaño n/2.\n",
        "2. Implementar una rutina que realice la multiplicación por bloques, **evitando cuentas innecesarias**."
      ]
    },
    {
      "cell_type": "code",
      "execution_count": null,
      "metadata": {
        "id": "2S50TQjr9beq"
      },
      "outputs": [],
      "source": [
        "import math\n",
        "\n",
        "def block_multiplication(A,B): \n",
        "    \n",
        "    n = A.shape[0]\n",
        "    assert(n % 2 == 0)\n",
        "    mid = math.floor(n/2)\n",
        "    \n",
        "    # Completar\n",
        "    A11 = A[:mid,:mid]\n",
        "    A12 = A[:mid,mid:]\n",
        "    A21 = A[mid:,:mid]\n",
        "    A22 = A[mid:,mid:]\n",
        "    \n",
        "    B11 = B[:mid,:mid]\n",
        "    B12 = B[:mid,mid:]\n",
        "    B21 = B[mid:,:mid]\n",
        "    B22 = B[mid:,mid:]\n",
        "\n",
        "    C_11 = A11 @ B11 + A12 @ B21\n",
        "    C_12 = A11 @ B12 + A12 @ B22\n",
        "    C_21 = A21 @ B11 + A22 @ B21\n",
        "    C_22 = A21 @ B12 + A22 @ B22\n",
        "\n",
        "    return np.block([[C_11,C_12],[C_21,C_22]])\n"
      ]
    },
    {
      "cell_type": "code",
      "execution_count": null,
      "metadata": {
        "colab": {
          "base_uri": "https://localhost:8080/"
        },
        "id": "u7I6y8DU9ber",
        "outputId": "f8bb1682-6470-4bfa-b3b0-bd0aa393dbc1"
      },
      "outputs": [
        {
          "output_type": "stream",
          "name": "stdout",
          "text": [
            "Ok\n"
          ]
        }
      ],
      "source": [
        "N = 4\n",
        "A = np.array(np.random.rand(N,N))\n",
        "B = np.array(np.random.rand(N,N))\n",
        "assert(np.allclose(A @ B,block_multiplication(A,B)))\n",
        "\n",
        "print(\"Ok\")"
      ]
    },
    {
      "cell_type": "markdown",
      "metadata": {
        "id": "Su8YLmEO9ber"
      },
      "source": [
        "### Ejercicio 5\n",
        "Describir e implementar un algoritmo que calcule un vector no nulo $z \\in  \\mathbb{R}^{n}$ tal que $Uz = 0$, donde $U \\in  \\mathbb{R}^{nxn}$ sea una matriz triangular superior con $u_{nn} = 0$ y $u_{ii} \\neq 0 \\ i \\neq n$"
      ]
    },
    {
      "cell_type": "code",
      "execution_count": null,
      "metadata": {
        "id": "-bShH0_F9bes"
      },
      "outputs": [],
      "source": []
    }
  ],
  "metadata": {
    "kernelspec": {
      "display_name": "Python 3",
      "language": "python",
      "name": "python3"
    },
    "language_info": {
      "codemirror_mode": {
        "name": "ipython",
        "version": 3
      },
      "file_extension": ".py",
      "mimetype": "text/x-python",
      "name": "python",
      "nbconvert_exporter": "python",
      "pygments_lexer": "ipython3",
      "version": "3.7.3"
    },
    "colab": {
      "name": "Numpy.ipynb",
      "provenance": [],
      "collapsed_sections": []
    }
  },
  "nbformat": 4,
  "nbformat_minor": 0
}