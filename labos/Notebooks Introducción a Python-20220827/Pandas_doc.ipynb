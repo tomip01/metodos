{
 "cells": [
  {
   "cell_type": "markdown",
   "metadata": {},
   "source": [
    "# Pandas"
   ]
  },
  {
   "cell_type": "markdown",
   "metadata": {},
   "source": [
    "## Series"
   ]
  },
  {
   "cell_type": "markdown",
   "metadata": {},
   "source": [
    "Las series son arreglos unidimensionales\n",
    "que pueden guardar datos de cualquier\n",
    "tipo (números, palabras, objetos, etc)\n",
    "\n",
    "Tienen un campo especial que es el index, es decir los ejes por lo que\n",
    "ordena la información\n",
    "\n",
    "La sintaxis canónica es: \n",
    "\n",
    "s = pd.Series(data, index=index)"
   ]
  },
  {
   "cell_type": "code",
   "execution_count": null,
   "metadata": {},
   "outputs": [],
   "source": [
    "import pandas as pd"
   ]
  },
  {
   "cell_type": "code",
   "execution_count": null,
   "metadata": {},
   "outputs": [],
   "source": [
    "a_series = (pd.Series([31,28,31,30,31,30], \n",
    "            index=['Enero', 'Febrero','Marzo', 'Abril', 'Mayo', 'Junio']))\n",
    "a_series"
   ]
  },
  {
   "cell_type": "code",
   "execution_count": null,
   "metadata": {},
   "outputs": [],
   "source": [
    "same_series = pd.Series({'Enero':31, 'Febrero':28,'Marzo':31, 'Abril':30, 'Mayo':31, 'Junio':30})\n",
    "same_series"
   ]
  },
  {
   "cell_type": "markdown",
   "metadata": {},
   "source": [
    "## Dataframes"
   ]
  },
  {
   "cell_type": "markdown",
   "metadata": {},
   "source": [
    "Los dataframes son como tablas de Excel, donde cada columna es una serie.\n",
    "Los dataframe pueden ser creados con diferentes tipos de datos\n",
    "* Dict de 1D ndarrays, lists, dicts, o Series\n",
    "* 2D numpy.ndarray\n",
    "* Una Serie\n",
    "* Otro dataframe\n",
    "* Un archivo .csv\n",
    "* etc..\n",
    "\n",
    "La sintaxis canonica es:\n",
    "\n",
    "df = pd.DataFrame(data)"
   ]
  },
  {
   "cell_type": "code",
   "execution_count": null,
   "metadata": {},
   "outputs": [],
   "source": [
    "data = [['Enero', 31, 'E'],\n",
    "        ['Febrero',28,'F'], \n",
    "        ['Marzo',31,'M'],\n",
    "        ['Abril',30,'A'],\n",
    "        ['Mayo',31,'M'],\n",
    "        ['Junio',30,'J']]\n",
    "\n",
    "df = pd.DataFrame(data, columns = ['Mes','Dias', 'Inicial'])\n",
    "df"
   ]
  },
  {
   "cell_type": "markdown",
   "metadata": {},
   "source": [
    "### Operaciones básicas"
   ]
  },
  {
   "cell_type": "code",
   "execution_count": null,
   "metadata": {},
   "outputs": [],
   "source": [
    "df.columns"
   ]
  },
  {
   "cell_type": "code",
   "execution_count": null,
   "metadata": {},
   "outputs": [],
   "source": [
    "df.values"
   ]
  },
  {
   "cell_type": "code",
   "execution_count": null,
   "metadata": {},
   "outputs": [],
   "source": [
    "df.info()"
   ]
  },
  {
   "cell_type": "code",
   "execution_count": null,
   "metadata": {},
   "outputs": [],
   "source": [
    "df.describe()"
   ]
  },
  {
   "cell_type": "code",
   "execution_count": null,
   "metadata": {},
   "outputs": [],
   "source": [
    "df.head()"
   ]
  },
  {
   "cell_type": "code",
   "execution_count": null,
   "metadata": {},
   "outputs": [],
   "source": [
    "df.tail()"
   ]
  },
  {
   "cell_type": "code",
   "execution_count": null,
   "metadata": {},
   "outputs": [],
   "source": [
    "# Acceder a columna (serie)\n",
    "df.Dias\n",
    "#df['Dias']"
   ]
  },
  {
   "cell_type": "code",
   "execution_count": null,
   "metadata": {},
   "outputs": [],
   "source": [
    "df[1:3]"
   ]
  },
  {
   "cell_type": "markdown",
   "metadata": {},
   "source": [
    "### Lectura de dataframe desde archivo"
   ]
  },
  {
   "cell_type": "code",
   "execution_count": null,
   "metadata": {},
   "outputs": [],
   "source": [
    "df_crime = pd.read_csv('crimes.csv', encoding=\"ISO-8859-1\",low_memory=False)"
   ]
  },
  {
   "cell_type": "code",
   "execution_count": null,
   "metadata": {},
   "outputs": [],
   "source": [
    "df_crime.head()"
   ]
  },
  {
   "cell_type": "code",
   "execution_count": null,
   "metadata": {},
   "outputs": [],
   "source": [
    "df_crime[2:5].to_csv('nuevoarchivo.csv')"
   ]
  },
  {
   "cell_type": "code",
   "execution_count": null,
   "metadata": {},
   "outputs": [],
   "source": [
    "df_crime.shape, len(df_crime)"
   ]
  },
  {
   "cell_type": "markdown",
   "metadata": {},
   "source": [
    "### Acceso avanzado"
   ]
  },
  {
   "cell_type": "markdown",
   "metadata": {},
   "source": [
    "Vimos cómo acceder a una columna o a una cierta cantidad de filas, pero nos va a interesar acceder\n",
    "a recortes más específicos: conjuntos de columnas, filas que cumplan ciertas condiciones, etc.\n",
    "\n",
    "El acceso a más de una columna se realiza mediante df[lista_de_columnas]:"
   ]
  },
  {
   "cell_type": "code",
   "execution_count": null,
   "metadata": {},
   "outputs": [],
   "source": [
    "df_crime[['OFFENSE_CODE','OFFENSE_DESCRIPTION']]"
   ]
  },
  {
   "cell_type": "markdown",
   "metadata": {},
   "source": [
    "Si queremos acceder a ciertas filas, podemos pasar una lista de booleanos que nos diga con qué\n",
    "filas queremos quedarnos y con cuáles no:"
   ]
  },
  {
   "cell_type": "code",
   "execution_count": null,
   "metadata": {},
   "outputs": [],
   "source": [
    "rows_to_keep = [False]*df_crime.shape[0]\n",
    "rows_to_keep[3:5] = [True,True]\n",
    "df_crime[rows_to_keep]"
   ]
  },
  {
   "cell_type": "markdown",
   "metadata": {},
   "source": [
    "A nadie le sirve armar una lista de booleanos constructivamente, pero esto nos sirve para devolver las filas que cumplan una condición."
   ]
  },
  {
   "cell_type": "code",
   "execution_count": null,
   "metadata": {},
   "outputs": [],
   "source": [
    "filter_by_offense = df_crime['OFFENSE_DESCRIPTION'].str.contains('MURDER')\n",
    "filter_by_offense"
   ]
  },
  {
   "cell_type": "code",
   "execution_count": null,
   "metadata": {},
   "outputs": [],
   "source": [
    "df_crime[filter_by_offense]"
   ]
  },
  {
   "cell_type": "markdown",
   "metadata": {},
   "source": [
    "La condición puede ser más elaborada, mezclando diferentes Series."
   ]
  },
  {
   "cell_type": "code",
   "execution_count": null,
   "metadata": {},
   "outputs": [],
   "source": [
    "filter_by_code = df_crime['OFFENSE_CODE'] == 619\n",
    "filter_by_code"
   ]
  },
  {
   "cell_type": "code",
   "execution_count": null,
   "metadata": {},
   "outputs": [],
   "source": [
    "df_crime[filter_by_code | filter_by_offense]"
   ]
  },
  {
   "cell_type": "markdown",
   "metadata": {},
   "source": [
    "**EJERCICIO**: Obtener las filas correspondientes a años posteriores al 2019 cometidas los fines de semana"
   ]
  },
  {
   "cell_type": "code",
   "execution_count": null,
   "metadata": {},
   "outputs": [],
   "source": [
    "..."
   ]
  },
  {
   "cell_type": "markdown",
   "metadata": {},
   "source": [
    "**iloc** se utiliza para acceder directamente con los rangos numéricos de las filas y columnas buscadas."
   ]
  },
  {
   "cell_type": "code",
   "execution_count": null,
   "metadata": {},
   "outputs": [],
   "source": [
    "df_crime.iloc[3]"
   ]
  },
  {
   "cell_type": "code",
   "execution_count": null,
   "metadata": {},
   "outputs": [],
   "source": [
    "df_crime.iloc[3:5]"
   ]
  },
  {
   "cell_type": "code",
   "execution_count": null,
   "metadata": {},
   "outputs": [],
   "source": [
    "df_crime.iloc[3:5,1:3]"
   ]
  },
  {
   "cell_type": "markdown",
   "metadata": {},
   "source": [
    "### Iteración y Apply"
   ]
  },
  {
   "cell_type": "markdown",
   "metadata": {},
   "source": [
    "En Pandas se pueden aplicar transformaciones a todas las filas y columnas sin explícitamente iterarlas. \n",
    "\n",
    "Pandas utiliza fuertemente NumPy en su implementación, así que la sugerencia de tener cuidado cuando hacemos algo no vectorizado en Pandas sigue aplicando.\n",
    "\n",
    "\n",
    "Una primera manera para recorrer los DataFrames es utilizando el método iterrrows, que precisamente va iterando las filas, devolviendo tanto su índice como la fila entera:"
   ]
  },
  {
   "cell_type": "code",
   "execution_count": null,
   "metadata": {},
   "outputs": [],
   "source": [
    "for index, row in df.iterrows():\n",
    "    print(\"Nueva fila:\")\n",
    "    print(index, row['Mes'], row['Inicial'])"
   ]
  },
  {
   "cell_type": "markdown",
   "metadata": {},
   "source": [
    "Otra posible manera es recorriendo el atributo index, combinado con un acceso por [] o por loc:"
   ]
  },
  {
   "cell_type": "code",
   "execution_count": null,
   "metadata": {},
   "outputs": [],
   "source": [
    "for index in df.index:\n",
    "    print(df.Mes[index], df.Dias[index])"
   ]
  },
  {
   "cell_type": "code",
   "execution_count": null,
   "metadata": {},
   "outputs": [],
   "source": [
    "for index in df.index:\n",
    "    print(df.loc[index, ['Mes','Dias']])"
   ]
  },
  {
   "cell_type": "markdown",
   "metadata": {},
   "source": [
    "También podemos recorrer el DataFrame utilizando iloc y pasando por todo el rango de filas:"
   ]
  },
  {
   "cell_type": "code",
   "execution_count": null,
   "metadata": {},
   "outputs": [],
   "source": [
    "for num_index in range(len(df)):\n",
    "    print(df.iloc[num_index].Dias, df.iloc[num_index].Mes)"
   ]
  },
  {
   "cell_type": "markdown",
   "metadata": {},
   "source": [
    "En varias situaciones, en vez de iterar el DataFrame, podemos directamente aplicar el cambio que\n",
    "queremos realizar, por ejemplo utilizando un apply:"
   ]
  },
  {
   "cell_type": "code",
   "execution_count": null,
   "metadata": {},
   "outputs": [],
   "source": [
    "print(df.apply(lambda row: row.Mes + ' ' + str(row.Dias), axis=1))"
   ]
  },
  {
   "cell_type": "code",
   "execution_count": null,
   "metadata": {},
   "outputs": [],
   "source": [
    "# Equivalenemente sin usar lambda\n",
    "def mont_and_days(row):\n",
    "    return row.Mes + ' ' + str(row.Dias)\n",
    "\n",
    "print(df.apply(mont_and_days,axis=1))\n"
   ]
  },
  {
   "cell_type": "code",
   "execution_count": null,
   "metadata": {},
   "outputs": [],
   "source": [
    "df.apply(lambda row: print(row.Mes, row.Dias), axis=1)"
   ]
  },
  {
   "cell_type": "code",
   "execution_count": null,
   "metadata": {},
   "outputs": [],
   "source": [
    "df.apply(lambda col: col.to_list()[:len(col.to_list())//2])"
   ]
  },
  {
   "cell_type": "markdown",
   "metadata": {},
   "source": [
    "### Funciones predefinidas"
   ]
  },
  {
   "cell_type": "markdown",
   "metadata": {},
   "source": [
    "Funciones que aplican sobre el DataFrame y sobre las Series sin necesidad de iterar explícitamente."
   ]
  },
  {
   "cell_type": "code",
   "execution_count": null,
   "metadata": {},
   "outputs": [],
   "source": [
    "df.sum()"
   ]
  },
  {
   "cell_type": "code",
   "execution_count": null,
   "metadata": {},
   "outputs": [],
   "source": [
    "df.sort_values(by=['Dias']).reset_index(drop=True)"
   ]
  },
  {
   "cell_type": "markdown",
   "metadata": {},
   "source": [
    "**EJERCICIO**: Contar crimenes por mes"
   ]
  }
 ],
 "metadata": {
  "kernelspec": {
   "display_name": "Python 3",
   "language": "python",
   "name": "python3"
  },
  "language_info": {
   "codemirror_mode": {
    "name": "ipython",
    "version": 3
   },
   "file_extension": ".py",
   "mimetype": "text/x-python",
   "name": "python",
   "nbconvert_exporter": "python",
   "pygments_lexer": "ipython3",
   "version": "3.7.3"
  }
 },
 "nbformat": 4,
 "nbformat_minor": 2
}
